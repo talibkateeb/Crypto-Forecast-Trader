{
 "cells": [
  {
   "cell_type": "code",
   "execution_count": null,
   "metadata": {},
   "outputs": [],
   "source": [
    "# Imports\n",
    "import pandas as pd\n",
    "import numpy as np\n",
    "from pathlib import Path\n",
    "import hvplot.pandas\n",
    "import matplotlib.pyplot as plt\n",
    "from sklearn import svm\n",
    "from sklearn.preprocessing import StandardScaler\n",
    "from pandas.tseries.offsets import DateOffset\n",
    "from sklearn.metrics import classification_report\n",
    "from fbprophet import Prophet\n",
    "import seaborn as sns\n",
    "import warnings\n",
    "warnings.filterwarnings('ignore')"
   ]
  },
  {
   "cell_type": "code",
   "execution_count": null,
   "metadata": {},
   "outputs": [],
   "source": [
    "# Import the CSV data into pandas dataframes\n",
    "\n",
    "btc_df = pd.read_csv(Path('data/BTC_USD.csv'), index_col='Date', parse_dates=True, infer_datetime_format=True)\n",
    "eth_df = pd.read_csv(Path('data/ETH_USD.csv'), index_col='Date', parse_dates=True, infer_datetime_format=True)\n",
    "ada_df = pd.read_csv(Path('data/ADA_USD.csv'), index_col='Date', parse_dates=True, infer_datetime_format=True)\n",
    "ltc_df = pd.read_csv(Path('data/LTC_USD.csv'), index_col='Date', parse_dates=True, infer_datetime_format=True)\n",
    "\n",
    "# Check the first 5 rows of each dataframe\n",
    "display(btc_df.head())\n",
    "display(eth_df.head())\n",
    "display(ada_df.head())\n",
    "display(ltc_df.head())"
   ]
  },
  {
   "cell_type": "code",
   "execution_count": null,
   "metadata": {},
   "outputs": [],
   "source": [
    "# Review the data types of the DataFrame using the info function\n",
    "btc_df.info()\n",
    "eth_df.info()\n",
    "ada_df.info()\n",
    "ltc_df.info()"
   ]
  },
  {
   "cell_type": "code",
   "execution_count": null,
   "metadata": {},
   "outputs": [],
   "source": [
    "# Filter the data index and Closing Price (USD) \n",
    "btc_sliced_df = btc_df.loc[\"2018-05-31\" :, [\"Closing Price (USD)\"]]\n",
    "eth_sliced_df = eth_df.loc[\"2018-05-31\" :, [\"Closing Price (USD)\"]]\n",
    "ada_sliced_df = ada_df.loc[\"2018-05-31\" :, [\"Closing Price (USD)\"]]\n",
    "ltc_sliced_df = ltc_df.loc[\"2018-05-31\" :, [\"Closing Price (USD)\"]]\n",
    "display(btc_sliced_df.head())\n",
    "display(eth_sliced_df.head())\n",
    "display(ada_sliced_df.head())\n",
    "display(ltc_sliced_df.head())"
   ]
  },
  {
   "cell_type": "markdown",
   "metadata": {},
   "source": [
    "### Forecasting"
   ]
  },
  {
   "cell_type": "markdown",
   "metadata": {},
   "source": [
    "## Step 1: Prepare the data to fit the Prophet model. Create four new Data Frames: one for each asset. Recall setting the column names to \"ds\" for the dates and \"y\" for the trend values."
   ]
  },
  {
   "cell_type": "code",
   "execution_count": null,
   "metadata": {},
   "outputs": [],
   "source": [
    "# Create a DataFrame for Bitcoin, reset index and rename the columns to the Prophet model syntax\n",
    "btc_rename_df = btc_sliced_df.reset_index()\n",
    "btc_rename_df = btc_rename_df.rename(columns={\"Date\":\"ds\", \"Closing Price (USD)\":\"y\"})\n",
    "btc_rename_df.head() "
   ]
  },
  {
   "cell_type": "code",
   "execution_count": null,
   "metadata": {},
   "outputs": [],
   "source": [
    "# Create a DataFrame for Ethereum, reset index and rename the columns to the Prophet model syntax\n",
    "eth_rename_df =  eth_sliced_df.reset_index()\n",
    "eth_rename_df = eth_rename_df.rename(columns={\"Date\":\"ds\", \"Closing Price (USD)\":\"y\"})\n",
    "eth_rename_df.head()"
   ]
  },
  {
   "cell_type": "code",
   "execution_count": null,
   "metadata": {},
   "outputs": [],
   "source": [
    "# Create a DataFrame for Cardano, reset index and rename the columns to the Prophet model syntax\n",
    "ada_rename_df = ada_sliced_df.reset_index()\n",
    "ada_rename_df = ada_rename_df.rename(columns={\"Date\":\"ds\", \"Closing Price (USD)\":\"y\"})\n",
    "ada_rename_df.head()"
   ]
  },
  {
   "cell_type": "code",
   "execution_count": null,
   "metadata": {},
   "outputs": [],
   "source": [
    "# Create a DataFrame for Litecoin, reset index and rename the columns to the Prophet model syntax\n",
    "ltc_rename_df = ltc_sliced_df.reset_index()\n",
    "ltc_rename_df = ltc_rename_df.rename(columns={\"Date\":\"ds\", \"Closing Price (USD)\":\"y\"})\n",
    "ltc_rename_df.head()"
   ]
  },
  {
   "cell_type": "markdown",
   "metadata": {},
   "source": [
    "## Step 2:  Create four Prophets models, one for each asset"
   ]
  },
  {
   "cell_type": "code",
   "execution_count": null,
   "metadata": {},
   "outputs": [],
   "source": [
    "# Create a Prophet model for Bitcoin\n",
    "model_btc = Prophet()"
   ]
  },
  {
   "cell_type": "code",
   "execution_count": null,
   "metadata": {},
   "outputs": [],
   "source": [
    "# Create a Prophet model for Ethereum\n",
    "model_eth = Prophet()"
   ]
  },
  {
   "cell_type": "code",
   "execution_count": null,
   "metadata": {},
   "outputs": [],
   "source": [
    "# Create a Prophet model for Cardano\n",
    "model_ada = Prophet()"
   ]
  },
  {
   "cell_type": "code",
   "execution_count": null,
   "metadata": {},
   "outputs": [],
   "source": [
    "# Create a Prophet model for Litecoin\n",
    "model_ltc = Prophet()"
   ]
  },
  {
   "cell_type": "markdown",
   "metadata": {},
   "source": [
    "## Step 3: Fit the Prophet models"
   ]
  },
  {
   "cell_type": "code",
   "execution_count": null,
   "metadata": {},
   "outputs": [],
   "source": [
    "# Fit the Bitcoin\n",
    "model_btc.fit(btc_rename_df)"
   ]
  },
  {
   "cell_type": "code",
   "execution_count": null,
   "metadata": {},
   "outputs": [],
   "source": [
    "# Fit the Ethereum\n",
    "model_eth.fit(eth_rename_df)"
   ]
  },
  {
   "cell_type": "code",
   "execution_count": null,
   "metadata": {},
   "outputs": [],
   "source": [
    "# Fit the Cardano\n",
    "model_ada.fit(ada_rename_df)"
   ]
  },
  {
   "cell_type": "code",
   "execution_count": null,
   "metadata": {},
   "outputs": [],
   "source": [
    "# Fit the Litecoin\n",
    "model_ltc.fit(ltc_rename_df)"
   ]
  },
  {
   "cell_type": "markdown",
   "metadata": {},
   "source": [
    "## Step 4: Use the make_future_dataframe function to forecast one year of trend dates."
   ]
  },
  {
   "cell_type": "code",
   "execution_count": null,
   "metadata": {},
   "outputs": [],
   "source": [
    "# Forecast one year of weekly future trends data for Bitcoin, set periods=52 because of year has 52 weeks. freq paramer to \"d\" of daily\n",
    "future_bitcoin = model_btc.make_future_dataframe(periods=252, freq=\"d\")\n",
    "\n",
    "# Display the last five rows of the future_bitcoin_ DataFrame\n",
    "future_bitcoin.tail()"
   ]
  },
  {
   "cell_type": "code",
   "execution_count": null,
   "metadata": {},
   "outputs": [],
   "source": [
    "# Forecast one year of weekly future trends data for ethereum , set periods=52 because of year has 52 weeks. freq paramer to \"d\" of daily\n",
    "future_ethereum = model_eth.make_future_dataframe(periods=252, freq=\"d\")\n",
    "\n",
    "# Display the last five rows of the future_bitcoin_ DataFrame\n",
    "future_ethereum.tail()"
   ]
  },
  {
   "cell_type": "code",
   "execution_count": null,
   "metadata": {},
   "outputs": [],
   "source": [
    "# Forecast one year of weekly future trends data for cardano, set periods=52 because of year has 52 weeks. freq paramer to \"d\" of daily\n",
    "future_cardano = model_ada.make_future_dataframe(periods=252, freq=\"d\")\n",
    "\n",
    "# Display the last five rows of the future_bitcoin_ DataFrame\n",
    "future_cardano.tail()"
   ]
  },
  {
   "cell_type": "code",
   "execution_count": null,
   "metadata": {},
   "outputs": [],
   "source": [
    "# Forecast one year of weekly future trends data for litecoin, set periods=52 because of year has 52 weeks. freq paramer to \"d\" of daily\n",
    "future_litecoin = model_ltc.make_future_dataframe(periods=252, freq=\"d\")\n",
    "\n",
    "# Display the last five rows of the future_bitcoin_ DataFrame\n",
    "future_litecoin.tail()"
   ]
  },
  {
   "cell_type": "markdown",
   "metadata": {},
   "source": [
    "## Step  5: Predict the future trends data by using the ```predict``` method for four of the asset models"
   ]
  },
  {
   "cell_type": "code",
   "execution_count": null,
   "metadata": {},
   "outputs": [],
   "source": [
    "# Make predictions for Bitcoin using future_bitcoin DateFrame\n",
    "forecast_bitcoin = model_btc.predict(future_bitcoin)\n",
    "\n",
    "# Display the first five rows of the forecast_canada DataFrame\n",
    "forecast_bitcoin.head()"
   ]
  },
  {
   "cell_type": "code",
   "execution_count": null,
   "metadata": {},
   "outputs": [],
   "source": [
    "# Make predictions for Ethereum using future_ethereum DateFrame\n",
    "forecast_ethereum = model_eth.predict(future_ethereum)\n",
    "\n",
    "# Display the first five rows of the forecast_canada DataFrame\n",
    "forecast_ethereum.head()"
   ]
  },
  {
   "cell_type": "code",
   "execution_count": null,
   "metadata": {},
   "outputs": [],
   "source": [
    "# Make predictions for cardano using future_cardano DateFrame\n",
    "forecast_cardano = model_ada.predict(future_cardano)\n",
    "\n",
    "# Display the first five rows of the forecast_canada DataFrame\n",
    "forecast_cardano.head()"
   ]
  },
  {
   "cell_type": "code",
   "execution_count": null,
   "metadata": {},
   "outputs": [],
   "source": [
    "# Make predictions for Litecoin using future_litecoin DateFrame\n",
    "forecast_litecoin = model_ltc.predict(future_litecoin)\n",
    "\n",
    "# Display the first five rows of the forecast_canada DataFrame\n",
    "forecast_litecoin.head()"
   ]
  },
  {
   "cell_type": "markdown",
   "metadata": {},
   "source": [
    "# Step 6: Plot Prophet's predictions by using the ```plot```funcion. "
   ]
  },
  {
   "cell_type": "code",
   "execution_count": null,
   "metadata": {},
   "outputs": [],
   "source": [
    "# Plot the Prophet predictions for Bitcoin\n",
    "forecast_plot_btc = model_btc.plot(forecast_bitcoin)"
   ]
  },
  {
   "cell_type": "code",
   "execution_count": null,
   "metadata": {},
   "outputs": [],
   "source": [
    "# Plot the Prophet predictions for Ethereum\n",
    "forecast_plot_eth = model_eth.plot(forecast_ethereum)"
   ]
  },
  {
   "cell_type": "code",
   "execution_count": null,
   "metadata": {},
   "outputs": [],
   "source": [
    "# Plot the Prophet predictions for Cardano\n",
    "forecast_plot_ada = model_ada.plot(forecast_cardano)"
   ]
  },
  {
   "cell_type": "code",
   "execution_count": null,
   "metadata": {},
   "outputs": [],
   "source": [
    "# Plot the Prophet predictions for Litecoin\n",
    "forecast_plot_ltc = model_ltc.plot(forecast_litecoin)"
   ]
  },
  {
   "cell_type": "markdown",
   "metadata": {},
   "source": [
    "## Step 7: Analyze the forecast results by plotting the forecast DataFrame's \"yhat\", \"yhat_lower\", and \"yhat\"upper\" columns for each the asset models. Set the \"ds\" column as the DataFrame index before creating these plots.\n"
   ]
  },
  {
   "cell_type": "code",
   "execution_count": null,
   "metadata": {},
   "outputs": [],
   "source": [
    "# Set the index in the forecast_bitcoin DataFrame to the ds datetime column\n",
    "forecast_bitcoin = forecast_bitcoin.set_index(\"ds\")\n",
    "\n",
    "# Display the forecast_bitcoin DataFrame\n",
    "forecast_bitcoin.head()"
   ]
  },
  {
   "cell_type": "code",
   "execution_count": null,
   "metadata": {},
   "outputs": [],
   "source": [
    "# Set the index in the forecast_ethereum DataFrame to the ds datetime column\n",
    "forecast_ethereum = forecast_ethereum.set_index(\"ds\")\n",
    "\n",
    "# Display the forecast_bitcoin DataFrame\n",
    "forecast_ethereum.head()"
   ]
  },
  {
   "cell_type": "code",
   "execution_count": null,
   "metadata": {},
   "outputs": [],
   "source": [
    "# Set the index in the forecast_cardano DataFrame to the ds datetime column\n",
    "forecast_cardano = forecast_cardano.set_index(\"ds\")\n",
    "\n",
    "# Display the forecast_bitcoin DataFrame\n",
    "forecast_cardano.head()"
   ]
  },
  {
   "cell_type": "code",
   "execution_count": null,
   "metadata": {},
   "outputs": [],
   "source": [
    "# Set the index in the forecast_litecoin DataFrame to the ds datetime column\n",
    "forecast_litecoin = forecast_litecoin.set_index(\"ds\")\n",
    "\n",
    "# Display the forecast_bitcoin DataFrame\n",
    "forecast_litecoin.head()"
   ]
  },
  {
   "cell_type": "code",
   "execution_count": null,
   "metadata": {},
   "outputs": [],
   "source": [
    "# Plot predictions for our 252 day peiods for bitcoin\n",
    "forecast_bitcoin[['yhat', 'yhat_lower', 'yhat_upper']].iloc[-252:,:].hvplot()"
   ]
  },
  {
   "cell_type": "code",
   "execution_count": null,
   "metadata": {},
   "outputs": [],
   "source": [
    "# Plot predictions for our 252 day peiods for ethereum\n",
    "forecast_ethereum[['yhat', 'yhat_lower', 'yhat_upper']].iloc[-252:,:].hvplot()"
   ]
  },
  {
   "cell_type": "code",
   "execution_count": null,
   "metadata": {},
   "outputs": [],
   "source": [
    "# Plot predictions for our 252 day peiods for cardano\n",
    "forecast_cardano[['yhat', 'yhat_lower', 'yhat_upper']].iloc[-252:,:].hvplot()"
   ]
  },
  {
   "cell_type": "code",
   "execution_count": null,
   "metadata": {},
   "outputs": [],
   "source": [
    "# Plot predictions for our 252 day peiods for litecoin\n",
    "forecast_litecoin[['yhat', 'yhat_lower', 'yhat_upper']].iloc[-252:,:].hvplot()"
   ]
  },
  {
   "cell_type": "markdown",
   "metadata": {},
   "source": [
    "# Step 8: Use the ```plot_component``` funtion from Prophet models to analyze the patterns of the Google Trends times series data for the assets models. Bes sure to reset the index by converting \"ds\" back to a column before creating these plots. "
   ]
  },
  {
   "cell_type": "code",
   "execution_count": null,
   "metadata": {},
   "outputs": [],
   "source": [
    "# Reset the index in the forecast_bitcoin DataFrame\n",
    "forecast_bitcoin = forecast_bitcoin.reset_index()\n",
    "\n",
    "# Use the plot_components function to visualize the forexast results\n",
    "# for the forecast_bitcoin DataFrame\n",
    "plot_btc_components = model_btc.plot_components(forecast_bitcoin)"
   ]
  },
  {
   "cell_type": "markdown",
   "metadata": {},
   "source": [
    "# Calculate correlation between Cryptocurrencias\n"
   ]
  },
  {
   "cell_type": "markdown",
   "metadata": {},
   "source": [
    "## Slice columns with names for merging"
   ]
  },
  {
   "cell_type": "code",
   "execution_count": null,
   "metadata": {},
   "outputs": [],
   "source": [
    "# Create a new dataframe called new_btc_df, holding \"Currency\" and \"Closing price (USD)\" in order to create new dataframe holding all the Cryptocurrencies \n",
    "new_btc_df = btc_df.loc[:, [\"Currency\",\"Closing Price (USD)\"]]\n"
   ]
  },
  {
   "cell_type": "code",
   "execution_count": null,
   "metadata": {},
   "outputs": [],
   "source": [
    "# Create a new dataframe called new_eth_df, holding \"Currency\" and \"Closing price (USD)\" in order to create new dataframe holding all the Cryptocurrencies\n",
    "new_eth_df = eth_df.loc[:, [\"Currency\",\"Closing Price (USD)\"]]"
   ]
  },
  {
   "cell_type": "code",
   "execution_count": null,
   "metadata": {},
   "outputs": [],
   "source": [
    "# Create a new dataframe called new_ada_df, holding \"Currency\" and \"Closing price (USD)\" in order to create new dataframe holding all the Cryptocurrencies\n",
    "new_ada_df = ada_df.loc[:, [\"Currency\",\"Closing Price (USD)\"]]"
   ]
  },
  {
   "cell_type": "code",
   "execution_count": null,
   "metadata": {},
   "outputs": [],
   "source": [
    "# Create a new dataframe called new_ltc_df, holding \"Currency\" and \"Closing price (USD)\" in order to create new dataframe holding all the Cryptocurrencies\n",
    "new_ltc_df = ltc_df.loc[:, [\"Currency\",\"Closing Price (USD)\"]]"
   ]
  },
  {
   "cell_type": "code",
   "execution_count": null,
   "metadata": {},
   "outputs": [],
   "source": [
    "# Create a list holding all of the assets\n",
    "closing_prices = [new_btc_df, new_eth_df, new_ada_df, new_ltc_df]\n"
   ]
  },
  {
   "cell_type": "code",
   "execution_count": null,
   "metadata": {},
   "outputs": [],
   "source": [
    "# Convert the list called closing_prices into a dataframe using the function .concat()\n",
    "crypto_concat_df = pd.concat(closing_prices)\n",
    "crypto_concat_df.head()"
   ]
  },
  {
   "cell_type": "code",
   "execution_count": null,
   "metadata": {},
   "outputs": [],
   "source": [
    "# Use Pandas `pivot` function to unify columns\n",
    "crypto_currencies_closing_prices_df = crypto_concat_df.pivot(columns=\"Currency\")\n",
    "crypto_currencies_closing_prices_df.tail().dropna()"
   ]
  },
  {
   "cell_type": "code",
   "execution_count": null,
   "metadata": {},
   "outputs": [],
   "source": [
    "# Calculate daily return of the assets and put the results into a new DataFrame return_crypto_currencies\n",
    "return_crypto_currencies = crypto_currencies_closing_prices_df.pct_change().dropna()\n",
    "return_crypto_currencies.head()"
   ]
  },
  {
   "cell_type": "code",
   "execution_count": null,
   "metadata": {},
   "outputs": [],
   "source": [
    "# Calculate the correlation between all the cryptocurrencies using the function .corr()\n",
    "correlation_cryptocurrencies = return_crypto_currencies.corr()\n",
    "correlation_cryptocurrencies"
   ]
  },
  {
   "cell_type": "code",
   "execution_count": null,
   "metadata": {},
   "outputs": [],
   "source": [
    "# Visualize the correlation calculated into a Heatmap\n",
    "sns.heatmap(correlation_cryptocurrencies)"
   ]
  },
  {
   "cell_type": "markdown",
   "metadata": {},
   "source": [
    "## Algo Trader for BTC"
   ]
  },
  {
   "cell_type": "code",
   "execution_count": null,
   "metadata": {},
   "outputs": [],
   "source": [
    "# With the sliced data frame add a column for the actual returns\n",
    "btc_sliced_df['Actual Returns'] = btc_sliced_df['Closing Price (USD)'].pct_change()\n",
    "\n",
    "# Drop NaN values\n",
    "btc_sliced_df = btc_sliced_df.dropna()\n",
    "\n",
    "# Review the DataFrame\n",
    "display(btc_sliced_df.head())"
   ]
  },
  {
   "cell_type": "code",
   "execution_count": null,
   "metadata": {},
   "outputs": [],
   "source": [
    "# Set the short and long window \n",
    "short_window = 5\n",
    "long_window = 100\n",
    "\n",
    "# Generate the fast and slow simple moving averages (5 and 100 days)\n",
    "btc_sliced_df['SMA_Fast'] = btc_sliced_df['Closing Price (USD)'].rolling(window=short_window).mean()\n",
    "btc_sliced_df['SMA_Slow'] = btc_sliced_df['Closing Price (USD)'].rolling(window=long_window).mean()\n",
    "\n",
    "# Drop NAN values\n",
    "btc_sliced_df = btc_sliced_df.dropna()\n",
    "\n",
    "# Review DataFrame\n",
    "display(btc_sliced_df.head())"
   ]
  },
  {
   "cell_type": "code",
   "execution_count": null,
   "metadata": {},
   "outputs": [],
   "source": [
    "# Initialize the new signal column\n",
    "btc_sliced_df['Signal'] = 0.0\n",
    "\n",
    "# When Actual Returns are Greater than or Equal to 0, generate a signal to buy the crypto long\n",
    "btc_sliced_df.loc[(btc_sliced_df['Actual Returns'] >= 0), 'Signal'] = 1\n",
    "\n",
    "\n",
    "# When Actual Returns are less than 0, generate a signal to sell the crypto short\n",
    "btc_sliced_df.loc[(btc_sliced_df['Actual Returns'] < 0), 'Signal'] = -1\n",
    "\n",
    "# Review the DataFrame\n",
    "display(btc_sliced_df.head())\n",
    "display(btc_sliced_df.tail())"
   ]
  },
  {
   "cell_type": "code",
   "execution_count": null,
   "metadata": {},
   "outputs": [],
   "source": [
    "# Count the signals values\n",
    "btc_sliced_df['Signal'].value_counts()"
   ]
  },
  {
   "cell_type": "code",
   "execution_count": null,
   "metadata": {},
   "outputs": [],
   "source": [
    "# Calculate the strategy returns and add them to the btc_sliced_df DataFrame\n",
    "btc_sliced_df['Strategy Returns'] = btc_sliced_df['Actual Returns'] * btc_sliced_df['Signal'].shift()\n",
    "\n",
    "# Review the DataFrame\n",
    "display(btc_sliced_df.head())\n",
    "display(btc_sliced_df.tail())"
   ]
  },
  {
   "cell_type": "code",
   "execution_count": null,
   "metadata": {},
   "outputs": [],
   "source": [
    "# Plot Strategy Returns to examine performance\n",
    "(1 + btc_sliced_df['Strategy Returns']).cumprod().plot()"
   ]
  },
  {
   "cell_type": "code",
   "execution_count": null,
   "metadata": {},
   "outputs": [],
   "source": [
    "# Assign a copy of the sma_fast and sma_slow columns to a features DataFrame called X\n",
    "X = btc_sliced_df[['SMA_Fast', 'SMA_Slow']].shift().dropna()\n",
    "\n",
    "# Review the DataFrame\n",
    "X.head()"
   ]
  },
  {
   "cell_type": "code",
   "execution_count": null,
   "metadata": {},
   "outputs": [],
   "source": [
    "# Create the target set selecting the Signal column and assiging it to y\n",
    "y = btc_sliced_df['Signal']\n",
    "\n",
    "# Review the value counts\n",
    "y.value_counts()"
   ]
  },
  {
   "cell_type": "code",
   "execution_count": null,
   "metadata": {},
   "outputs": [],
   "source": [
    "# Select the start of the training period\n",
    "training_begin = X.index.min()\n",
    "\n",
    "# Display the training begin date\n",
    "print(training_begin)"
   ]
  },
  {
   "cell_type": "code",
   "execution_count": null,
   "metadata": {},
   "outputs": [],
   "source": [
    "# Select the ending period for the training data with an offset of 3 months\n",
    "training_end = X.index.min() + DateOffset(months=4)\n",
    "\n",
    "# Display the training end date\n",
    "print(training_end)"
   ]
  },
  {
   "cell_type": "code",
   "execution_count": null,
   "metadata": {},
   "outputs": [],
   "source": [
    "# Generate the X_train and y_train DataFrames\n",
    "X_train = X.loc[training_begin:training_end]\n",
    "y_train = y.loc[training_begin:training_end]\n",
    "\n",
    "# Review the X_train DataFrame\n",
    "X_train.head()"
   ]
  },
  {
   "cell_type": "code",
   "execution_count": null,
   "metadata": {},
   "outputs": [],
   "source": [
    "# Generate the X_test and y_test DataFrames\n",
    "X_test = X.loc[training_end+DateOffset(hours=1):]\n",
    "y_test = y.loc[training_end+DateOffset(hours=1):]\n",
    "\n",
    "# Review the X_test DataFrame\n",
    "X_train.head()"
   ]
  },
  {
   "cell_type": "code",
   "execution_count": null,
   "metadata": {},
   "outputs": [],
   "source": [
    "# Scale the features DataFrames\n",
    "\n",
    "# Create a StandardScaler instance\n",
    "scaler = StandardScaler()\n",
    "\n",
    "# Apply the scaler model to fit the X-train data\n",
    "X_scaler = scaler.fit(X_train)\n",
    "\n",
    "# Transform the X_train and X_test DataFrames using the X_scaler\n",
    "X_train_scaled = X_scaler.transform(X_train)\n",
    "X_test_scaled = X_scaler.transform(X_test)"
   ]
  },
  {
   "cell_type": "code",
   "execution_count": null,
   "metadata": {},
   "outputs": [],
   "source": [
    "# From SVM, instantiate SVC classifier model instance\n",
    "svm_model = svm.SVC()\n",
    " \n",
    "# Fit the model to the data using the training data\n",
    "svm_model = svm_model.fit(X_train_scaled, y_train)\n",
    " \n",
    "# Use the testing data to make the model predictions\n",
    "svm_pred = svm_model.predict(X_test_scaled)\n",
    "\n",
    "# Review the model's predicted values\n",
    "svm_pred[:10]"
   ]
  },
  {
   "cell_type": "code",
   "execution_count": null,
   "metadata": {},
   "outputs": [],
   "source": [
    "# Use a classification report to evaluate the model using the predictions and testing data\n",
    "svm_testing_report = classification_report(y_test, svm_pred)\n",
    "\n",
    "# Print the classification report\n",
    "print(svm_testing_report)\n"
   ]
  },
  {
   "cell_type": "code",
   "execution_count": null,
   "metadata": {},
   "outputs": [],
   "source": [
    "# Create a new empty predictions DataFrame.\n",
    "\n",
    "# Create a predictions DataFrame\n",
    "predictions_df = pd.DataFrame(index=X_test.index)\n",
    "\n",
    "# Add the SVM model predictions to the DataFrame\n",
    "predictions_df['Predicted'] = svm_pred\n",
    "\n",
    "# Add the actual returns to the DataFrame\n",
    "predictions_df['Actual Returns'] = btc_sliced_df[\"Actual Returns\"]\n",
    "\n",
    "# Add the strategy returns to the DataFrame\n",
    "predictions_df['Strategy Returns'] = btc_sliced_df['Strategy Returns']\n",
    "\n",
    "# Review the DataFrame\n",
    "display(predictions_df.head())\n",
    "display(predictions_df.tail())"
   ]
  },
  {
   "cell_type": "code",
   "execution_count": null,
   "metadata": {},
   "outputs": [],
   "source": [
    "# Plot the actual returns versus the strategy returns\n",
    "(1 + predictions_df[['Actual Returns', 'Strategy Returns']]).cumprod().plot()"
   ]
  },
  {
   "cell_type": "code",
   "execution_count": null,
   "metadata": {},
   "outputs": [],
   "source": [
    "# Import a new classifier from SKLearn\n",
    "from sklearn.naive_bayes import GaussianNB\n",
    "\n",
    "# Initiate the model instance\n",
    "gnb = GaussianNB()\n",
    "\n",
    "# Fit the model using the training data\n",
    "gnb = gnb.fit(X_train_scaled, y_train)\n",
    "\n",
    "# Use the testing dataset to generate the predictions for the new model\n",
    "pred = gnb.predict(X_test_scaled)\n",
    "\n",
    "# Review the model's predicted values\n",
    "pred[:10]"
   ]
  },
  {
   "cell_type": "code",
   "execution_count": null,
   "metadata": {},
   "outputs": [],
   "source": [
    "# Use a classification report to evaluate the model using the predictions and testing data\n",
    "gnb_testing_report = classification_report(y_test, pred)\n",
    "\n",
    "# Print the classification report\n",
    "print(gnb_testing_report)"
   ]
  },
  {
   "cell_type": "code",
   "execution_count": null,
   "metadata": {},
   "outputs": [],
   "source": [
    "# Create a new empty predictions DataFrame.\n",
    "\n",
    "# Create a predictions DataFrame\n",
    "gnb_predictions_df = pd.DataFrame(index=X_test.index)\n",
    "\n",
    "# Add the Logistic Regression model predictions to the DataFrame\n",
    "gnb_predictions_df['Predicted'] = pred\n",
    "\n",
    "# Add the actual returns to the DataFrame\n",
    "gnb_predictions_df['Actual Returns'] = btc_sliced_df[\"Actual Returns\"]\n",
    "\n",
    "# Add the strategy returns to the DataFrame\n",
    "gnb_predictions_df['Strategy Returns'] = btc_sliced_df['Strategy Returns']\n",
    "\n",
    "# Review the DataFrame\n",
    "display(gnb_predictions_df.head())\n",
    "display(gnb_predictions_df.tail())"
   ]
  },
  {
   "cell_type": "code",
   "execution_count": null,
   "metadata": {},
   "outputs": [],
   "source": [
    "# Plot the actual returns versus the strategy returns\n",
    "(1 + gnb_predictions_df[['Actual Returns', 'Strategy Returns']]).cumprod().plot()"
   ]
  },
  {
   "cell_type": "code",
   "execution_count": null,
   "metadata": {},
   "outputs": [],
   "source": [
    "# Import a new classifier from SKLearn\n",
    "from sklearn.linear_model import LogisticRegression\n",
    "\n",
    "# Initiate the model instance\n",
    "lr = LogisticRegression(random_state=1)"
   ]
  },
  {
   "cell_type": "code",
   "execution_count": null,
   "metadata": {},
   "outputs": [],
   "source": [
    "# Fit the model using the training data\n",
    "lr = lr.fit(X_train_scaled, y_train)\n",
    "\n",
    "# Use the testing dataset to generate the predictions for the new model\n",
    "pred = lr.predict(X_test_scaled)\n",
    "\n",
    "# Review the model's predicted values\n",
    "pred[:10]"
   ]
  },
  {
   "cell_type": "code",
   "execution_count": null,
   "metadata": {},
   "outputs": [],
   "source": [
    "# Use a classification report to evaluate the model using the predictions and testing data\n",
    "lr_testing_report = classification_report(y_test, pred)\n",
    "\n",
    "# Print the classification report\n",
    "print(lr_testing_report)"
   ]
  },
  {
   "cell_type": "code",
   "execution_count": null,
   "metadata": {},
   "outputs": [],
   "source": [
    "# Create a new empty predictions DataFrame.\n",
    "\n",
    "# Create a predictions DataFrame\n",
    "lr_predictions_df = pd.DataFrame(index=X_test.index)\n",
    "\n",
    "# Add the Logistic Regression model predictions to the DataFrame\n",
    "lr_predictions_df['Predicted'] = pred\n",
    "\n",
    "# Add the actual returns to the DataFrame\n",
    "lr_predictions_df['Actual Returns'] = btc_sliced_df[\"Actual Returns\"]\n",
    "\n",
    "# Add the strategy returns to the DataFrame\n",
    "lr_predictions_df['Strategy Returns'] = btc_sliced_df['Strategy Returns']\n",
    "\n",
    "# Review the DataFrame\n",
    "display(lr_predictions_df.head())\n",
    "display(lr_predictions_df.tail())"
   ]
  },
  {
   "cell_type": "code",
   "execution_count": null,
   "metadata": {},
   "outputs": [],
   "source": [
    "# Plot the actual returns versus the strategy returns\n",
    "(1 + lr_predictions_df[['Actual Returns', 'Strategy Returns']]).cumprod().plot()"
   ]
  }
 ],
 "metadata": {
  "kernelspec": {
   "display_name": "python (dev)",
   "language": "python",
   "name": "dev"
  },
  "language_info": {
   "codemirror_mode": {
    "name": "ipython",
    "version": 3
   },
   "file_extension": ".py",
   "mimetype": "text/x-python",
   "name": "python",
   "nbconvert_exporter": "python",
   "pygments_lexer": "ipython3",
   "version": "3.7.9"
  }
 },
 "nbformat": 4,
 "nbformat_minor": 5
}
